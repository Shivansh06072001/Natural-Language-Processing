{
 "cells": [
  {
   "cell_type": "code",
   "execution_count": 2,
   "metadata": {},
   "outputs": [],
   "source": [
    "import nltk\n",
    "import numpy as np\n",
    "import pandas as pd\n",
    "import re"
   ]
  },
  {
   "cell_type": "code",
   "execution_count": 3,
   "metadata": {},
   "outputs": [],
   "source": [
    "with open('english_words.txt') as f:\n",
    "    file=f.read()\n",
    "english_words=file.split('\\n')\n",
    "english_words=[w.lower() for w in english_words]"
   ]
  },
  {
   "cell_type": "code",
   "execution_count": 4,
   "metadata": {},
   "outputs": [],
   "source": [
    "with open('text_corpora.txt') as f:\n",
    "    file=f.read()\n",
    "    file=file.lower()"
   ]
  },
  {
   "cell_type": "code",
   "execution_count": 5,
   "metadata": {},
   "outputs": [],
   "source": [
    "texts=nltk.word_tokenize(file)\n",
    "texts=[w.lower() for w in texts if w[0].isalpha()]"
   ]
  },
  {
   "cell_type": "code",
   "execution_count": 6,
   "metadata": {},
   "outputs": [],
   "source": [
    "count={}\n",
    "for word in texts:\n",
    "    if word in count.keys():\n",
    "        count[word]+=1\n",
    "    else:\n",
    "        count[word]=1\n",
    "        \n",
    "V=len(count)\n",
    "total=sum(count.values())"
   ]
  },
  {
   "cell_type": "code",
   "execution_count": 7,
   "metadata": {},
   "outputs": [],
   "source": [
    "def deleteletter(word):\n",
    "    delete_l=[]\n",
    "    split_l=[(word[:i],word[i:]) for i in range(len(word)+1)]\n",
    "    delete_l=[l+r[1:] for (l,r) in split_l if len(r)>=1]\n",
    "    if word in delete_l:\n",
    "        delete_l.remove(word)\n",
    "    return delete_l\n",
    "    "
   ]
  },
  {
   "cell_type": "code",
   "execution_count": 8,
   "metadata": {},
   "outputs": [],
   "source": [
    "def insertletter(word):\n",
    "    insert_l=[]\n",
    "    letters=\"abcdefghijklmnopqrstuvwxyz\"\n",
    "    split_l=[(word[:i],word[i:]) for i in range(len(word)+1)]\n",
    "    insert_l=[l+letter+r for (l,r) in split_l for letter in letters]\n",
    "    if word in insert_l:\n",
    "        insert_l.remove(word)\n",
    "    return insert_l"
   ]
  },
  {
   "cell_type": "code",
   "execution_count": 9,
   "metadata": {},
   "outputs": [],
   "source": [
    "def swapletter(word):\n",
    "    swap_l=[]\n",
    "    split_l=[(word[:i],word[i:]) for i in range(len(word)+1)]\n",
    "    swap_l=[l+r[1]+r[0]+r[2:] for (l,r) in split_l if len(r)>=2]\n",
    "    if word in swap_l:\n",
    "        swap_l.remove(word)\n",
    "    return swap_l"
   ]
  },
  {
   "cell_type": "code",
   "execution_count": 10,
   "metadata": {},
   "outputs": [],
   "source": [
    "def replaceletter(word):\n",
    "    letters=\"abcdefghijklmnopqrstuvwxyz\"\n",
    "    replace_l=[]\n",
    "    split_l=[(word[:i],word[i:]) for i in range(len(word)+1)]\n",
    "    replace_l=[l+letter+r[1:]  for (l,r) in split_l for letter in letters]\n",
    "    return replace_l"
   ]
  },
  {
   "cell_type": "code",
   "execution_count": 11,
   "metadata": {},
   "outputs": [],
   "source": [
    "def edit_one_letter(word):\n",
    "    edit_one_set=[]\n",
    "    delete_letter=deleteletter(word)\n",
    "    insert_letter=insertletter(word)\n",
    "    replace_letter=replaceletter(word)\n",
    "    swap_letter=swapletter(word)\n",
    "    edit_one_set=delete_letter+insert_letter+replace_letter+swap_letter\n",
    "    return edit_one_set"
   ]
  },
  {
   "cell_type": "code",
   "execution_count": 15,
   "metadata": {},
   "outputs": [
    {
     "name": "stdout",
     "output_type": "stream",
     "text": [
      "Enter the text : My neme is Khan aend I am not a terrrorist\n"
     ]
    }
   ],
   "source": [
    "string=input('Enter the text : ')"
   ]
  },
  {
   "cell_type": "code",
   "execution_count": 16,
   "metadata": {},
   "outputs": [],
   "source": [
    "regex1=r'.*/.'\n",
    "re.sub(regex1,'',string)\n",
    "words=string.split('.')\n",
    "words=\" \".join(words)\n",
    "words=nltk.word_tokenize(words)\n",
    "words_tag=nltk.pos_tag(words)\n",
    "incorrect_words=[w.lower() for (w,tag) in words_tag if tag!='NNP' and w not in english_words]"
   ]
  },
  {
   "cell_type": "code",
   "execution_count": 17,
   "metadata": {},
   "outputs": [
    {
     "name": "stdout",
     "output_type": "stream",
     "text": [
      "My name is Khan and I am not a terrorist\n"
     ]
    }
   ],
   "source": [
    "correct_words=[]\n",
    "sentence=string.split()\n",
    "for i,word in enumerate(sentence):\n",
    "    if word in incorrect_words:\n",
    "        all_possible_words=edit_one_letter(word)\n",
    "        candidates=[w for w in all_possible_words if w in english_words]\n",
    "        maximum=0.0\n",
    "        most_prob_word=str()\n",
    "        for candidate in candidates:\n",
    "            numerator=count.get((candidate),0)\n",
    "            prob=(numerator+1)/(total+V)\n",
    "            if prob>maximum:\n",
    "                maximum=prob\n",
    "                most_prob_word=candidate\n",
    "        sentence[i]=most_prob_word\n",
    "print(' '.join(sentence))\n"
   ]
  },
  {
   "cell_type": "code",
   "execution_count": null,
   "metadata": {},
   "outputs": [],
   "source": []
  },
  {
   "cell_type": "code",
   "execution_count": null,
   "metadata": {},
   "outputs": [],
   "source": []
  },
  {
   "cell_type": "code",
   "execution_count": null,
   "metadata": {},
   "outputs": [],
   "source": []
  },
  {
   "cell_type": "code",
   "execution_count": null,
   "metadata": {},
   "outputs": [],
   "source": []
  },
  {
   "cell_type": "code",
   "execution_count": null,
   "metadata": {},
   "outputs": [],
   "source": []
  },
  {
   "cell_type": "code",
   "execution_count": null,
   "metadata": {},
   "outputs": [],
   "source": []
  },
  {
   "cell_type": "code",
   "execution_count": null,
   "metadata": {},
   "outputs": [],
   "source": []
  },
  {
   "cell_type": "code",
   "execution_count": null,
   "metadata": {},
   "outputs": [],
   "source": []
  },
  {
   "cell_type": "code",
   "execution_count": null,
   "metadata": {},
   "outputs": [],
   "source": []
  },
  {
   "cell_type": "code",
   "execution_count": null,
   "metadata": {},
   "outputs": [],
   "source": []
  },
  {
   "cell_type": "code",
   "execution_count": null,
   "metadata": {},
   "outputs": [],
   "source": []
  },
  {
   "cell_type": "code",
   "execution_count": null,
   "metadata": {},
   "outputs": [],
   "source": []
  },
  {
   "cell_type": "code",
   "execution_count": null,
   "metadata": {},
   "outputs": [],
   "source": []
  },
  {
   "cell_type": "code",
   "execution_count": null,
   "metadata": {},
   "outputs": [],
   "source": []
  },
  {
   "cell_type": "code",
   "execution_count": null,
   "metadata": {},
   "outputs": [],
   "source": []
  },
  {
   "cell_type": "code",
   "execution_count": null,
   "metadata": {},
   "outputs": [],
   "source": []
  },
  {
   "cell_type": "code",
   "execution_count": null,
   "metadata": {},
   "outputs": [],
   "source": []
  },
  {
   "cell_type": "code",
   "execution_count": null,
   "metadata": {},
   "outputs": [],
   "source": []
  },
  {
   "cell_type": "code",
   "execution_count": null,
   "metadata": {},
   "outputs": [],
   "source": []
  },
  {
   "cell_type": "code",
   "execution_count": null,
   "metadata": {},
   "outputs": [],
   "source": []
  },
  {
   "cell_type": "code",
   "execution_count": null,
   "metadata": {},
   "outputs": [],
   "source": []
  },
  {
   "cell_type": "code",
   "execution_count": null,
   "metadata": {},
   "outputs": [],
   "source": []
  }
 ],
 "metadata": {
  "kernelspec": {
   "display_name": "Python 3",
   "language": "python",
   "name": "python3"
  },
  "language_info": {
   "codemirror_mode": {
    "name": "ipython",
    "version": 3
   },
   "file_extension": ".py",
   "mimetype": "text/x-python",
   "name": "python",
   "nbconvert_exporter": "python",
   "pygments_lexer": "ipython3",
   "version": "3.7.6"
  }
 },
 "nbformat": 4,
 "nbformat_minor": 4
}
